{
 "cells": [
  {
   "cell_type": "code",
   "execution_count": 1,
   "metadata": {},
   "outputs": [
    {
     "name": "stdout",
     "output_type": "stream",
     "text": [
      "Veritabanı tabloları: [('pages',), ('crawl_sessions',), ('links',)]\n",
      "(1, 'https://saglik.gov.tr', 'T.C. Sağlık Bakanlığı', '2025-03-11 21:02:12.881944')\n",
      "(2, 'https://saglik.gov.tr/?_Dil=1', 'T.C. Sağlık Bakanlığı', '2025-03-11 21:02:14.700613')\n",
      "(3, 'https://saglik.gov.tr/TR-11442/saglik-bakanimiz.html', 'Sağlık Bakanımız', '2025-03-11 21:02:16.482761')\n",
      "(4, 'https://saglik.gov.tr/TR-11499/bakan-yardimcilari.html', 'Bakan Yardımcıları', '2025-03-11 21:02:18.311486')\n",
      "(5, 'https://saglik.gov.tr/TR-11492/tarihce.html', 'Tarihçe', '2025-03-11 21:02:20.270889')\n",
      "(6, 'https://saglik.gov.tr/TR-11531/bakanlik-birimleri.html', 'Bakanlık Birimleri', '2025-03-11 21:02:21.965648')\n",
      "(7, 'https://saglik.gov.tr/TR-11465/kurumsal-politikalarimiz.html', 'Kurumsal Politikalarımız', '2025-03-11 21:02:23.823337')\n",
      "(8, 'https://saglik.gov.tr/TR-11443/teskilat-semasi.html', 'Teşkilat Şeması', '2025-03-11 21:02:25.611031')\n",
      "(9, 'https://saglik.gov.tr/TR-61717/stratejik-yonetim.html', 'STRATEJİ GELİŞTİRME BAŞKANLIĞI', '2025-03-11 21:02:27.890044')\n",
      "(10, 'https://saglik.gov.tr/TR-11464/gorev-ve-yetkiler.html', 'Görev ve Yetkiler', '2025-03-11 21:02:29.248341')\n"
     ]
    }
   ],
   "source": [
    "import sqlite3\n",
    "\n",
    "# Veritabanına bağlan\n",
    "conn = sqlite3.connect('crawler_data.db')\n",
    "cursor = conn.cursor()\n",
    "\n",
    "# Tüm tabloları listele\n",
    "cursor.execute(\"SELECT name FROM sqlite_master WHERE type='table';\")\n",
    "tables = cursor.fetchall()\n",
    "print(\"Veritabanı tabloları:\", tables)\n",
    "\n",
    "# Sayfaları görüntüle\n",
    "cursor.execute(\"SELECT id, url, title, crawled_at FROM pages LIMIT 10;\")\n",
    "pages = cursor.fetchall()\n",
    "for page in pages:\n",
    "    print(page)\n",
    "\n",
    "# Bağlantıyı kapat\n",
    "conn.close()"
   ]
  }
 ],
 "metadata": {
  "kernelspec": {
   "display_name": "crawler",
   "language": "python",
   "name": "python3"
  },
  "language_info": {
   "codemirror_mode": {
    "name": "ipython",
    "version": 3
   },
   "file_extension": ".py",
   "mimetype": "text/x-python",
   "name": "python",
   "nbconvert_exporter": "python",
   "pygments_lexer": "ipython3",
   "version": "3.10.16"
  }
 },
 "nbformat": 4,
 "nbformat_minor": 2
}
